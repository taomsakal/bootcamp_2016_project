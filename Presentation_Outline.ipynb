{
 "cells": [
  {
   "cell_type": "markdown",
   "metadata": {
    "nbpresent": {
     "id": "198deedb-e263-4dd6-ad1d-138f2367b25e"
    }
   },
   "source": [
    "## Introduction (Why is this important?,\n",
    "- Disease propagation. Understanding networks allows us to understand the way that diseases spread and be able to effectively administer vaccines.\n",
    "- Understanding of the different models of disease propagation. When we study the SI, SIS, and SIR models, we can understand the thresholds of disease propagation to understand what parameters govern an outbreak and allow the initiaton of smart strategies of vaccination.\\n\",\n",
    "\n",
    "### What did we do?\n",
    "- We modeled and discussed the Erdos-Renyi (random attachment), the Watts-Strogatz (small world) Model, and the Barabasi-Albert (preferential attachment) models.\n",
    "- We discussed the SI, SIS, and SIR models of disease propagation over these different types of networks. \\n\",\n",
    "- We discussed various measures of centrality, landing on the idea that the left-dominant eigenvector is the most helpful measure of centrality when attempting to understand the dynamics of diswase propagation throughout a network (Gronwald-Bellman Comparison Lemma)\n",
    "\n",
    "## Network Models\n",
    "Talk about the clustering, diameter, and degree distribution of the networks.\n",
    "\n",
    "### Erdos-Renyi (Random Attachment)\n",
    "### Watts-Strogatz (Small World Model)\n",
    "### Barabasi-Albert (Preferential Attachment)\n",
    "\n",
    "## Disease Propagation Models\n",
    "#### SI\n",
    "#### SIS\n",
    "#### SIR\n",
    "\n",
    "## Measures of Centrality"
   ]
  },
  {
   "cell_type": "markdown",
   "metadata": {
    "collapsed": true
   },
   "source": []
  }
 ],
 "metadata": {
  "anaconda-cloud": {},
  "kernelspec": {
   "display_name": "Python [Root]",
   "language": "python",
   "name": "Python [Root]"
  },
  "language_info": {
   "codemirror_mode": {
    "name": "ipython",
    "version": 3
   },
   "file_extension": ".py",
   "mimetype": "text/x-python",
   "name": "python",
   "nbconvert_exporter": "python",
   "pygments_lexer": "ipython3",
   "version": "3.5.2"
  }
 },
 "nbformat": 4,
 "nbformat_minor": 0
}
