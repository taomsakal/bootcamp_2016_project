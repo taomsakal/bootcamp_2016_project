{
 "cells": [
  {
   "cell_type": "code",
   "execution_count": 1,
   "metadata": {
    "collapsed": false
   },
   "outputs": [
    {
     "name": "stdout",
     "output_type": "stream",
     "text": [
      "Using matplotlib backend: Qt4Agg\n",
      "Populating the interactive namespace from numpy and matplotlib\n"
     ]
    }
   ],
   "source": [
    "%pylab"
   ]
  },
  {
   "cell_type": "code",
   "execution_count": 2,
   "metadata": {
    "collapsed": true
   },
   "outputs": [],
   "source": [
    "x = randn(1000)"
   ]
  },
  {
   "cell_type": "code",
   "execution_count": 4,
   "metadata": {
    "collapsed": false
   },
   "outputs": [
    {
     "data": {
      "text/plain": [
       "(array([  1.,   0.,   0.,   0.,   0.,   0.,   1.,   1.,   0.,   0.,   1.,\n",
       "          0.,   0.,   3.,   1.,   1.,   2.,   3.,   1.,   1.,   4.,   6.,\n",
       "          3.,   5.,   1.,   4.,   6.,   5.,   5.,   9.,  12.,  10.,  16.,\n",
       "          9.,   8.,   9.,   8.,  16.,  18.,  13.,  14.,  16.,  25.,  28.,\n",
       "         27.,  20.,  24.,  31.,  26.,  22.,  20.,  30.,  21.,  23.,  31.,\n",
       "         22.,  16.,  19.,  17.,  26.,  29.,  23.,  27.,  16.,  15.,  18.,\n",
       "         18.,  23.,  18.,  20.,  14.,  14.,  13.,  11.,   9.,  14.,  12.,\n",
       "          4.,   4.,   8.,   4.,   4.,   7.,   5.,   4.,   6.,   4.,   3.,\n",
       "          3.,   0.,   3.,   0.,   1.,   1.,   0.,   1.,   0.,   0.,   1.,\n",
       "          2.]),\n",
       " array([-3.53204748, -3.46605911, -3.40007073, -3.33408235, -3.26809397,\n",
       "        -3.20210559, -3.13611721, -3.07012884, -3.00414046, -2.93815208,\n",
       "        -2.8721637 , -2.80617532, -2.74018694, -2.67419857, -2.60821019,\n",
       "        -2.54222181, -2.47623343, -2.41024505, -2.34425667, -2.2782683 ,\n",
       "        -2.21227992, -2.14629154, -2.08030316, -2.01431478, -1.9483264 ,\n",
       "        -1.88233803, -1.81634965, -1.75036127, -1.68437289, -1.61838451,\n",
       "        -1.55239613, -1.48640776, -1.42041938, -1.354431  , -1.28844262,\n",
       "        -1.22245424, -1.15646586, -1.09047749, -1.02448911, -0.95850073,\n",
       "        -0.89251235, -0.82652397, -0.76053559, -0.69454721, -0.62855884,\n",
       "        -0.56257046, -0.49658208, -0.4305937 , -0.36460532, -0.29861694,\n",
       "        -0.23262857, -0.16664019, -0.10065181, -0.03466343,  0.03132495,\n",
       "         0.09731333,  0.1633017 ,  0.22929008,  0.29527846,  0.36126684,\n",
       "         0.42725522,  0.4932436 ,  0.55923197,  0.62522035,  0.69120873,\n",
       "         0.75719711,  0.82318549,  0.88917387,  0.95516224,  1.02115062,\n",
       "         1.087139  ,  1.15312738,  1.21911576,  1.28510414,  1.35109251,\n",
       "         1.41708089,  1.48306927,  1.54905765,  1.61504603,  1.68103441,\n",
       "         1.74702278,  1.81301116,  1.87899954,  1.94498792,  2.0109763 ,\n",
       "         2.07696468,  2.14295305,  2.20894143,  2.27492981,  2.34091819,\n",
       "         2.40690657,  2.47289495,  2.53888332,  2.6048717 ,  2.67086008,\n",
       "         2.73684846,  2.80283684,  2.86882522,  2.93481359,  3.00080197,\n",
       "         3.06679035]),\n",
       " <a list of 100 Patch objects>)"
      ]
     },
     "execution_count": 4,
     "metadata": {},
     "output_type": "execute_result"
    }
   ],
   "source": [
    "hist(x,100)"
   ]
  },
  {
   "cell_type": "code",
   "execution_count": 2,
   "metadata": {
    "collapsed": true
   },
   "outputs": [],
   "source": [
    "import networkx as nx\n",
    "import matplotlib.pyplot as plt"
   ]
  },
  {
   "cell_type": "code",
   "execution_count": 6,
   "metadata": {
    "collapsed": true
   },
   "outputs": [],
   "source": [
    "g = nx.Graph()"
   ]
  },
  {
   "cell_type": "code",
   "execution_count": 7,
   "metadata": {
    "collapsed": true
   },
   "outputs": [],
   "source": [
    "nx.draw(g)"
   ]
  },
  {
   "cell_type": "code",
   "execution_count": 18,
   "metadata": {
    "collapsed": true
   },
   "outputs": [],
   "source": [
    "g.add_edges_from([(\"a\",\"c\"),(\"c\",\"d\"), (\"a\",1), (1,\"d\"), (\"a\",2)])"
   ]
  },
  {
   "cell_type": "code",
   "execution_count": 19,
   "metadata": {
    "collapsed": false
   },
   "outputs": [
    {
     "name": "stdout",
     "output_type": "stream",
     "text": [
      "['a', 1, 'c', 2, 'd']\n"
     ]
    }
   ],
   "source": [
    "print(g.nodes())"
   ]
  },
  {
   "cell_type": "code",
   "execution_count": 10,
   "metadata": {
    "collapsed": true
   },
   "outputs": [],
   "source": [
    "pg = nx.path_graph(5)"
   ]
  },
  {
   "cell_type": "code",
   "execution_count": 11,
   "metadata": {
    "collapsed": true
   },
   "outputs": [],
   "source": [
    "nx.draw(pg)"
   ]
  },
  {
   "cell_type": "code",
   "execution_count": 12,
   "metadata": {
    "collapsed": true
   },
   "outputs": [],
   "source": [
    "G=nx.path_graph(4)\n",
    "cities = {0:\"Toronto\",1:\"London\",2:\"Berlin\",3:\"New York\"}\n",
    "\n",
    "H=nx.relabel_nodes(G,cities)"
   ]
  },
  {
   "cell_type": "code",
   "execution_count": 13,
   "metadata": {
    "collapsed": true
   },
   "outputs": [],
   "source": [
    "nx.draw(H)"
   ]
  },
  {
   "cell_type": "code",
   "execution_count": null,
   "metadata": {
    "collapsed": false
   },
   "outputs": [],
   "source": [
    "\n"
   ]
  },
  {
   "cell_type": "code",
   "execution_count": 25,
   "metadata": {
    "collapsed": true
   },
   "outputs": [],
   "source": [
    "nx.draw(G)\n",
    "plt.show()"
   ]
  },
  {
   "cell_type": "raw",
   "metadata": {},
   "source": [
    "print(G.nodes())"
   ]
  },
  {
   "cell_type": "code",
   "execution_count": 17,
   "metadata": {
    "collapsed": false
   },
   "outputs": [
    {
     "data": {
      "text/plain": [
       "7"
      ]
     },
     "execution_count": 17,
     "metadata": {},
     "output_type": "execute_result"
    }
   ],
   "source": [
    "3+4"
   ]
  },
  {
   "cell_type": "code",
   "execution_count": 2,
   "metadata": {
    "collapsed": false
   },
   "outputs": [
    {
     "name": "stdout",
     "output_type": "stream",
     "text": [
      "Nodes of graph: \n",
      "[0, 1, 2, 3]\n",
      "Edges of graph: \n",
      "[(0, 1), (1, 2), (2, 3)]\n"
     ]
    }
   ],
   "source": [
    "import networkx as nx\n",
    "import matplotlib.pyplot as plt\n",
    "\n",
    "G=nx.path_graph(4)\n",
    "\n",
    "print(\"Nodes of graph: \")\n",
    "print(G.nodes())\n",
    "print(\"Edges of graph: \")\n",
    "print(G.edges())\n",
    "nx.draw(G)\n",
    "plt.savefig(\"path_graph1.png\")\n",
    "plt.show()"
   ]
  },
  {
   "cell_type": "code",
   "execution_count": 32,
   "metadata": {
    "collapsed": false
   },
   "outputs": [],
   "source": [
    "import networkx as nx\n",
    "import matplotlib.pyplot as plt\n",
    "import matplotlib.image as mpimg\n",
    "vimg=mpimg.imread('vedant.png')\n",
    "dimg=mpimg.imread('david.png')\n",
    "simg=mpimg.imread('colin.png')\n",
    "cimg=mpimg.imread('colleen.png')\n",
    "jimg=mpimg.imread('julia.png')\n",
    "G = nx.Graph()\n",
    "G.add_node(0,image=dimg,size=0.1)\n",
    "G.add_node(1,image=vimg,size=0.1)\n",
    "G.add_node(2,image=simg,size=0.1)\n",
    "G.add_node(3,image=cimg,size=0.1)\n",
    "G.add_node(4,image=jimg,size=0.1)\n",
    "\n",
    "pos=nx.circular_layout(G)\n",
    "nx.draw_networkx_nodes(G,pos,nodelist = [0,1,2,3,4], node_color = 'w',node_size = 500,alpha= 0.8)\n",
    "nx.draw_networkx_edges(G,pos,width=1.0,alpha=0.5)\n",
    "nx.draw_networkx_edges(G,pos,edgelist = [(0,1),(0,2),(1,2),(2,3),(3,4)], width=8,edge_color='b')\n",
    "nx.draw_networkx_edges(G,pos,edgelist = [(0,4)], width=8,edge_color='r')\n",
    "\n",
    "labels={}\n",
    "labels[0]='David'\n",
    "labels[1]='Vedant'\n",
    "labels[2]='Colin'\n",
    "labels[3]='Colleen'\n",
    "labels[4]='Julia'\n",
    "nx.draw_networkx_labels(G,pos)\n",
    "\n",
    "# add images on edges\n",
    "ax=plt.gca()\n",
    "fig=plt.gcf()\n",
    "label_pos = 0 # middle of edge, halfway between nodes\n",
    "trans = ax.transData.transform\n",
    "trans2 = fig.transFigure.inverted().transform\n",
    "\n",
    "for n1 in G.nodes():\n",
    "    (x1,y1) = pos[n1]\n",
    "    xx,yy = trans((x1,y1)) # figure coordinates\n",
    "    xa,ya = trans2((xx,yy)) # axes coordinates\n",
    "\n",
    "    a = plt.axes([xa,ya,G.node[n1]['size'],G.node[n1]['size']])\n",
    "    a.imshow(G.node[n1]['image'])    \n",
    "    \n",
    "    a.set_aspect('equal')\n",
    "    a.axis('off')\n",
    "plt.show()\n",
    "#plt.savefig('hi.png')\n"
   ]
  },
  {
   "cell_type": "code",
   "execution_count": 11,
   "metadata": {
    "collapsed": false,
    "scrolled": true
   },
   "outputs": [],
   "source": [
    "G = nx.Graph()\n",
    "H = nx.Graph()\n",
    "H.add_node(G)\n",
    "G.add_nodes_from([1,2,3,4,5])\n",
    "G.add_weighted_edges_from([(1,2,0.125),(1,3,0.75),(2,4,1.2),(3,4,0.375)])\n",
    "nx.draw_random(G)\n",
    "plt.show()"
   ]
  },
  {
   "cell_type": "code",
   "execution_count": 8,
   "metadata": {
    "collapsed": false
   },
   "outputs": [],
   "source": [
    "#Erdos-Renyi\n",
    "er=nx.erdos_renyi_graph(10,0.5)\n",
    "nx.draw(er)\n",
    "plt.show()\n",
    "\n",
    "A = nx.to_numpy_matrix(er)\n",
    "import numpy as np\n",
    "np.savetxt('testname.txt',A)"
   ]
  },
  {
   "cell_type": "code",
   "execution_count": 6,
   "metadata": {
    "collapsed": false
   },
   "outputs": [],
   "source": [
    "#Random Lobster\n",
    "red=nx.erdos_renyi_graph(20,0.9)\n",
    "nx.draw(red)\n",
    "plt.show()"
   ]
  },
  {
   "cell_type": "code",
   "execution_count": 22,
   "metadata": {
    "collapsed": true
   },
   "outputs": [],
   "source": [
    "#Watts-Strogatz\n",
    "ws=nx.watts_strogatz_graph(10,3,0.1)\n",
    "nx.draw(ws)\n",
    "plt.show()"
   ]
  },
  {
   "cell_type": "code",
   "execution_count": 23,
   "metadata": {
    "collapsed": true
   },
   "outputs": [],
   "source": [
    "#Barabasi-Albert\n",
    "ba=nx.barabasi_albert_graph(10,5)\n",
    "nx.draw(ba)\n",
    "plt.show()"
   ]
  },
  {
   "cell_type": "code",
   "execution_count": null,
   "metadata": {
    "collapsed": true
   },
   "outputs": [],
   "source": []
  }
 ],
 "metadata": {
  "kernelspec": {
   "display_name": "Python [Root]",
   "language": "python",
   "name": "Python [Root]"
  },
  "language_info": {
   "codemirror_mode": {
    "name": "ipython",
    "version": 2
   },
   "file_extension": ".py",
   "mimetype": "text/x-python",
   "name": "python",
   "nbconvert_exporter": "python",
   "pygments_lexer": "ipython2",
   "version": "2.7.12"
  }
 },
 "nbformat": 4,
 "nbformat_minor": 0
}
