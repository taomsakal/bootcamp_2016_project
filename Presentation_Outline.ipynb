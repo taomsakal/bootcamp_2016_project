{
 "cells": [
  {
   "cell_type": "markdown",
   "metadata": {
    "nbpresent": {
     "id": "198deedb-e263-4dd6-ad1d-138f2367b25e"
    }
   },
   "source": [
    "## Introduction (Why is this important?)\n",
    "- Disease propagation. Understanding networks allows us to understand the way that diseases spread and be able to effectively administer vaccines.\n",
    "- Understanding of the different models of disease propagation. When we study the SI, SIS, and SIR models, we can understand the thresholds of disease propagation to understand what parameters govern an outbreak and allow the initiaton of smart strategies of vaccination.\\n\",\n",
    "\n",
    "### What did we do?\n",
    "- We modeled and discussed the Erdos-Renyi (random attachment), the Watts-Strogatz (small world) Model, and the Barabasi-Albert (preferential attachment) models.\n",
    "- We discussed the SI, SIS, and SIR models of disease propagation over these different types of networks.\n",
    "- We discussed various measures of centrality, landing on the idea that the left-dominant eigenvector is the most helpful measure of centrality when attempting to understand the dynamics of diswase propagation throughout a network (Gronwald-Bellman Comparison Lemma)\n",
    "\n",
    "## Network Models\n",
    "Talk about the clustering, diameter, and degree distribution of the networks.\n",
    "\n",
    "### Erdos-Renyi (Random Attachment)\n",
    "![Erdos-Renyi Graph](http://cneurocvs.rmki.kfki.hu/igraphbook/random.png \"Erdos-Renyi\")\n",
    "\n",
    "- The Erdos-Renyi model assumes that each node in the network is randomly attached to other nodes in the network. There are no underlying rules assumed for the way that they are attached or the way that they are placed.\n",
    "- This was the first network model proposed by Erdos and Renyi in the 50's\n",
    "- A random graph is undirected, has n vertices and m edges. The m edges are drawn uniformly random from the set of all possible edges.\n",
    "- The Erdos-Renyi network model can create networks with **huge** diameters that do not facilitate diffusion. These networks are very rare--if present at all-- in the real world.<sup>1</sup>\n",
    "\n",
    "### Watts-Strogatz (Small World Model)\n",
    "![Erdos-Renyi Graph](http://graphstream-project.org/media/img/wattsStrogatz.png \"Watts-Strogatz\")\n",
    "\n",
    "- The Watts-Strogatz model produces a network that is denoted by \"small world\" properties. All nodes areound the perimeter of the circle are connected to one another with a clustering coefficient of one, and additional lines are added through the center of the network. \n",
    "- These lines serve to drastically reduce the diameter of the network, and facilitate much more rapid diffusion through networks than does the Erdos-Renyi model. <sup>2</sup>\n",
    "\n",
    "### Barabási-Albert (Preferential Attachment)\n",
    "![Barabasi-Albert Graph](http://cneurocvs.rmki.kfki.hu/igraphbook/scalefree.png \"Barabasi-Albert\")\n",
    "\n",
    "- The Barabasi-Albert model proposes a graph that is directed (but could be non-directional). These graphs are formed by beginning with one point, and then adding points to the graph connected by edges. These nodes are connected preferentially to nodes which already have high levels of connection. This is known as **preferential attachment**. The probability that a node is chosen for an additional attachment is proportaional to its in-degree plus some constant.<sup>3</sup>\n",
    "\n",
    "\n",
    "## Disease Propagation Models\n",
    "#### SI\n",
    "\n",
    "- In the SI model, a member of the population progresses from susceptible to infected. Once the node is infected, it does not recover. This can be modeled using the equations that follow<sup>4</sup>\n",
    "\n",
    "$$\n",
    "\\Large\n",
    "\\begin{align*}\n",
    "\\frac{d[S]}{dt} &= \\beta [SI]\\\\\n",
    "\\frac{d[I]}{dt} &= \\beta[SI]\n",
    "\\end{align*}\n",
    " $$\n",
    "\n",
    "#### SIS\n",
    "\n",
    "- In the SIS model, once a node is infected, it is possible that it will recover, and rejoin the uninfected population. This recover rate is usually expressed as a probabilty over time. The total number of infected nodes is modeled with the following equation:<sup>5</sup>\n",
    "\n",
    "$$\n",
    "\\Large\n",
    "\\begin{align*}\n",
    "\\frac{dS}{dt} &= - \\beta SI + \\alpha I \\\\\n",
    "\\frac{dI}{dt} &= \\beta SI - \\alpha I \n",
    "\\end{align*}\n",
    "$$\n",
    "\n",
    "#### SIR\n",
    "- In the SIR model of disease propagation, once a node is infected, it is possible that it will recover. Furthermore, once a node is recovered, the particular node is no longer vulnerable to the infection. This would be relevant in diseases such as chickenpox, where infection leads to immunity in the vast majority of cases.<sup>6</sup>\n",
    "\n",
    "$$\n",
    "\\Large\n",
    "\\frac{dI}{dt} = ( \\beta S(t)) - k) I(t)\n",
    "$$\n",
    "\n",
    "## Measures of Centrality\n",
    "\n",
    "[//]: # (Why do we want to use this? Need a bit more clarification here)\n",
    "\n",
    "- **In-Degree Centrality** is the measure of how many nodes are connected to a particular node. The more connections a node has, the more centrality it is said to have. This measure of centrality is informative to a point, but does not ultimately inform disease spread in the best ways. \n",
    "- **Eigenvector Centrality** asserts that a node is important only if it is linked to by other highly important nodes. This importance is measured with the following equation:<sup>7</sup>\n",
    "$$ \\Large\n",
    " x_i = \\frac{1}{\\lambda} \\sum_k a_{k,i} x_k $$\n",
    "\n",
    "## Modeling Diffusion on a Selection of Networks\n",
    "\n",
    "\n",
    "# References\n",
    "1. http://cneurocvs.rmki.kfki.hu/igraphbook/random.png\n",
    "2. https://data.graphstream-project.org/api/gs-algo/1.3/org/graphstream/algorithm/generator/WattsStrogatzGenerator.html\n",
    "3. http://cneurocvs.rmki.kfki.hu/igraphbook/scalefree.png\n",
    "4. Hassler, J. (2013) _S.I. Epidemics Model_, Princeton University Press.\n",
    "5. https://me.ucsb.edu/~moehlis/APC514/tutorials/tutorial_seasonal/node2.html\n",
    "6. Johnson, T. (2008) _Mathematical Modeling of Diseases, Susceptible, Infected, Recovered Model.\n",
    "7. http://www.sci.unich.it/~francesc/teaching/network/eigenvector.html"
   ]
  },
  {
   "cell_type": "markdown",
   "metadata": {
    "collapsed": true
   },
   "source": []
  }
 ],
 "metadata": {
  "anaconda-cloud": {},
  "kernelspec": {
   "display_name": "Python [Root]",
   "language": "python",
   "name": "Python [Root]"
  },
  "language_info": {
   "codemirror_mode": {
    "name": "ipython",
    "version": 3
   },
   "file_extension": ".py",
   "mimetype": "text/x-python",
   "name": "python",
   "nbconvert_exporter": "python",
   "pygments_lexer": "ipython3",
   "version": "3.5.2"
  }
 },
 "nbformat": 4,
 "nbformat_minor": 0
}
